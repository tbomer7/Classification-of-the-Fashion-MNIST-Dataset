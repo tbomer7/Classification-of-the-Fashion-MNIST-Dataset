{
  "nbformat": 4,
  "nbformat_minor": 0,
  "metadata": {
    "colab": {
      "name": "Coursework 2.0.ipynb",
      "provenance": []
    },
    "kernelspec": {
      "name": "python3",
      "display_name": "Python 3"
    },
    "language_info": {
      "name": "python"
    }
  },
  "cells": [
    {
      "cell_type": "code",
      "source": [
        "!pip install my_utils"
      ],
      "metadata": {
        "colab": {
          "base_uri": "https://localhost:8080/"
        },
        "id": "bez5Jt7t7wtE",
        "outputId": "8d7e9658-39c0-4f79-c843-fca8d18ec40e"
      },
      "execution_count": 121,
      "outputs": [
        {
          "output_type": "stream",
          "name": "stdout",
          "text": [
            "Requirement already satisfied: my_utils in /usr/local/lib/python3.7/dist-packages (0.0.1)\n"
          ]
        }
      ]
    },
    {
      "cell_type": "code",
      "source": [
        "import my_utils as mu\n",
        "import torch\n",
        "from torch import nn\n",
        "from IPython import display"
      ],
      "metadata": {
        "id": "fXz9fgtO73Ey"
      },
      "execution_count": 122,
      "outputs": []
    },
    {
      "cell_type": "markdown",
      "source": [
        "#The Stem"
      ],
      "metadata": {
        "id": "uhOUhXoUOLXH"
      }
    },
    {
      "cell_type": "markdown",
      "source": [
        "###Reading the Dataset and Creating the Dataloaders"
      ],
      "metadata": {
        "id": "li-ea-upN3x0"
      }
    },
    {
      "cell_type": "code",
      "source": [
        "batch_size = 256\n",
        "train_iter, test_iter = mu.load_data_fashion_mnist(batch_size)"
      ],
      "metadata": {
        "colab": {
          "base_uri": "https://localhost:8080/"
        },
        "id": "ORr0YONk8eP2",
        "outputId": "5af2a420-7df6-46dd-8f07-4efb266d5280"
      },
      "execution_count": 123,
      "outputs": [
        {
          "output_type": "stream",
          "name": "stderr",
          "text": [
            "/usr/local/lib/python3.7/dist-packages/torch/utils/data/dataloader.py:481: UserWarning: This DataLoader will create 4 worker processes in total. Our suggested max number of worker in current system is 2, which is smaller than what this DataLoader is going to create. Please be aware that excessive worker creation might get DataLoader running slow or even freeze, lower the worker number to avoid potential slowness/freeze if necessary.\n",
            "  cpuset_checked))\n"
          ]
        }
      ]
    },
    {
      "cell_type": "markdown",
      "source": [
        "* In the output of the code below, 256 corresponds to the batch size.\n",
        "* 28x28 corresponds to the dimensions (HxW) of an image.\n",
        "* `y` contains the training data, with each sample having a labelled class (0-9.)"
      ],
      "metadata": {
        "id": "S6JFuKKP82Qe"
      }
    },
    {
      "cell_type": "code",
      "source": [
        "X, y = next(iter(train_iter)) #first batch\n",
        "print(X.size())\n",
        "print(y)\n",
        "print(y.size())"
      ],
      "metadata": {
        "id": "plZkAFI88gCq",
        "colab": {
          "base_uri": "https://localhost:8080/"
        },
        "outputId": "98989739-b1ad-4074-d6b7-a3f865434659"
      },
      "execution_count": 124,
      "outputs": [
        {
          "output_type": "stream",
          "name": "stderr",
          "text": [
            "/usr/local/lib/python3.7/dist-packages/torch/utils/data/dataloader.py:481: UserWarning: This DataLoader will create 4 worker processes in total. Our suggested max number of worker in current system is 2, which is smaller than what this DataLoader is going to create. Please be aware that excessive worker creation might get DataLoader running slow or even freeze, lower the worker number to avoid potential slowness/freeze if necessary.\n",
            "  cpuset_checked))\n"
          ]
        },
        {
          "output_type": "stream",
          "name": "stdout",
          "text": [
            "torch.Size([256, 1, 28, 28])\n",
            "tensor([9, 3, 8, 8, 0, 7, 3, 8, 7, 0, 9, 3, 4, 1, 8, 9, 5, 8, 4, 0, 6, 9, 5, 8,\n",
            "        1, 9, 4, 0, 3, 2, 6, 3, 3, 3, 3, 4, 4, 8, 1, 6, 9, 6, 2, 3, 1, 0, 6, 1,\n",
            "        3, 1, 7, 5, 7, 9, 3, 3, 4, 0, 4, 9, 5, 9, 4, 7, 0, 5, 2, 2, 8, 0, 6, 4,\n",
            "        7, 3, 4, 0, 7, 8, 0, 3, 0, 8, 3, 3, 5, 4, 0, 1, 6, 0, 2, 6, 1, 7, 6, 0,\n",
            "        5, 2, 2, 1, 2, 7, 3, 8, 3, 4, 3, 2, 5, 3, 5, 8, 7, 1, 2, 3, 8, 0, 8, 1,\n",
            "        3, 2, 8, 9, 5, 8, 7, 7, 0, 4, 5, 8, 5, 2, 8, 4, 6, 7, 2, 7, 6, 3, 4, 3,\n",
            "        4, 7, 3, 1, 1, 4, 6, 6, 6, 3, 4, 7, 1, 8, 3, 5, 7, 6, 2, 1, 9, 2, 5, 5,\n",
            "        3, 1, 4, 6, 9, 9, 6, 4, 0, 4, 5, 8, 0, 9, 2, 0, 0, 3, 7, 8, 3, 7, 4, 8,\n",
            "        9, 6, 7, 7, 3, 7, 6, 7, 0, 9, 1, 3, 9, 7, 1, 5, 2, 9, 4, 0, 7, 3, 6, 7,\n",
            "        1, 2, 6, 0, 5, 7, 2, 4, 8, 0, 1, 0, 6, 3, 6, 5, 4, 7, 0, 7, 5, 7, 5, 3,\n",
            "        1, 4, 3, 7, 0, 3, 1, 6, 9, 9, 5, 9, 6, 2, 8, 5])\n",
            "torch.Size([256])\n"
          ]
        }
      ]
    },
    {
      "cell_type": "markdown",
      "source": [
        "###Dividing an Image into Patches"
      ],
      "metadata": {
        "id": "8dXr4LZPAIoY"
      }
    },
    {
      "cell_type": "markdown",
      "source": [
        "* The output of the code below - `X` - is a matrix which contains feature vectors for each patch."
      ],
      "metadata": {
        "id": "SaqsfPzDpxWZ"
      }
    },
    {
      "cell_type": "code",
      "source": [
        "size = 14 #patch size - also try 7x7 and 4x4\n",
        "stride = 4 #patch stride\n",
        "#X = torch.range(1, 28*28)\n",
        "#X = train_iter\n",
        "X, y = next(iter(train_iter))\n",
        "X = X.view(-1, 28, 28)\n",
        "X = X.unfold(1, size, stride).unfold(2, size, stride)\n",
        "X = torch.flatten(X, start_dim=3)\n",
        "X = X.view(-1, 16, 49)\n",
        "#print(X.size())\n",
        "print(X[:, 0])\n",
        "X[0].shape"
      ],
      "metadata": {
        "colab": {
          "base_uri": "https://localhost:8080/"
        },
        "id": "5TOPitDXBZCW",
        "outputId": "e4587a3e-90fd-479a-c29e-3a37596a53bf"
      },
      "execution_count": 125,
      "outputs": [
        {
          "output_type": "stream",
          "name": "stderr",
          "text": [
            "/usr/local/lib/python3.7/dist-packages/torch/utils/data/dataloader.py:481: UserWarning: This DataLoader will create 4 worker processes in total. Our suggested max number of worker in current system is 2, which is smaller than what this DataLoader is going to create. Please be aware that excessive worker creation might get DataLoader running slow or even freeze, lower the worker number to avoid potential slowness/freeze if necessary.\n",
            "  cpuset_checked))\n"
          ]
        },
        {
          "output_type": "stream",
          "name": "stdout",
          "text": [
            "tensor([[0.0000, 0.0000, 0.0000,  ..., 0.0000, 0.0000, 0.0000],\n",
            "        [0.0000, 0.0000, 0.0000,  ..., 0.0000, 0.0000, 0.0000],\n",
            "        [0.0000, 0.0000, 0.0000,  ..., 0.0000, 0.0000, 0.0000],\n",
            "        ...,\n",
            "        [0.0000, 0.0000, 0.0000,  ..., 0.0000, 0.0000, 0.0000],\n",
            "        [0.0000, 0.0000, 0.0000,  ..., 0.0000, 0.0000, 0.0000],\n",
            "        [0.0000, 0.0078, 0.0000,  ..., 0.8667, 0.8275, 0.7020]])\n"
          ]
        },
        {
          "output_type": "execute_result",
          "data": {
            "text/plain": [
              "torch.Size([16, 49])"
            ]
          },
          "metadata": {},
          "execution_count": 125
        }
      ]
    },
    {
      "cell_type": "markdown",
      "source": [
        "#The Backbone"
      ],
      "metadata": {
        "id": "VdKypuBoaAnL"
      }
    },
    {
      "cell_type": "markdown",
      "source": [
        "###Model Definition and Parameter Initialisation"
      ],
      "metadata": {
        "id": "CRPDSEldzDXg"
      }
    },
    {
      "cell_type": "markdown",
      "source": [
        "* The model - `Net` - is defined below. It contains two linear layers, making it a multi-layer perceptron.\n",
        "* Of the number of hidden layers experimented with, 256 gives the highest accuracy.\n",
        "* As input, the first layer - `self.Linear1` - takes 784 (28x28) features. It then outputs 256 (16x16) features, which are used as the input to the second layer - `self.Linear2`.\n",
        "* Finally, the second layer ouputs 10 features - 10 corresponding to the number of classes in the dataset. \n",
        "* `nn.ReLU()`, a nonlinear activation function, is found to return the highest accuracy.\n",
        " Sigmoid and Tanh were also experimented with but gave lower accuracies."
      ],
      "metadata": {
        "id": "kSNlz3dIbd3u"
      }
    },
    {
      "cell_type": "code",
      "source": [
        "class Net(torch.nn.Module):\n",
        "    def __init__(self, num_inputs, num_hidden, num_outputs):\n",
        "        super(Net, self).__init__()\n",
        "        self.num_inputs = num_inputs\n",
        "        self.num_hidden = num_hidden\n",
        "        self.num_outputs = num_outputs\n",
        "        self.Linear1 = nn.Linear(num_inputs, num_hidden)\n",
        "        self.Linear2 = nn.Linear(num_hidden, num_outputs)\n",
        "        self.relu = nn.ReLU()\n",
        "\n",
        "    def forward(self, x):\n",
        "        x = x.view(-1, self.num_inputs)\n",
        "        x = self.Linear1(x)\n",
        "        x = self.relu(x)\n",
        "        out = self.Linear2(x)\n",
        "        return out"
      ],
      "metadata": {
        "id": "zhsTSlYc-gRa"
      },
      "execution_count": 126,
      "outputs": []
    },
    {
      "cell_type": "code",
      "source": [
        "num_inputs, num_hidden, num_outputs = 784, 256, 10\n",
        "net = Net(num_inputs, num_hidden, num_outputs)\n",
        "print(net)"
      ],
      "metadata": {
        "colab": {
          "base_uri": "https://localhost:8080/"
        },
        "id": "xht79KerFi97",
        "outputId": "d5e601d7-170e-4ae6-c085-fcf25dda163f"
      },
      "execution_count": 127,
      "outputs": [
        {
          "output_type": "stream",
          "name": "stdout",
          "text": [
            "Net(\n",
            "  (Linear1): Linear(in_features=784, out_features=256, bias=True)\n",
            "  (Linear2): Linear(in_features=256, out_features=10, bias=True)\n",
            "  (relu): ReLU()\n",
            ")\n"
          ]
        }
      ]
    },
    {
      "cell_type": "markdown",
      "source": [
        "* The parameters - weights and bias - are initialised below.\n",
        "* A default initialisation method - `torch.nn.init.normal_` - is used because it...\n",
        "* Other methods Xavier and He - `torch.nn.init.xavier_normal_` and `torch.nn.init.kaiming_normal_` - were also experimented with but returned lower accuracies.\n",
        "* The `if` function below enables different linear layers to be intialised in different ways."
      ],
      "metadata": {
        "id": "0S5U3Q5BdhvU"
      }
    },
    {
      "cell_type": "code",
      "source": [
        "def init_weights(m):\n",
        "    if isinstance(m, nn.Linear): \n",
        "        torch.nn.init.normal_(m.weight, std=0.01) \n",
        "        torch.nn.init.zeros_(m.bias)\n",
        "\n",
        "net.apply(init_weights);\n",
        "print(net)"
      ],
      "metadata": {
        "colab": {
          "base_uri": "https://localhost:8080/"
        },
        "id": "tPaXGOHx_BIJ",
        "outputId": "25a510b5-75ad-4305-e2cc-3c328aea7865"
      },
      "execution_count": 128,
      "outputs": [
        {
          "output_type": "stream",
          "name": "stdout",
          "text": [
            "Net(\n",
            "  (Linear1): Linear(in_features=784, out_features=256, bias=True)\n",
            "  (Linear2): Linear(in_features=256, out_features=10, bias=True)\n",
            "  (relu): ReLU()\n",
            ")\n"
          ]
        }
      ]
    },
    {
      "cell_type": "code",
      "source": [
        "net = Net(num_inputs, num_hidden, num_outputs)"
      ],
      "metadata": {
        "id": "XpX_UNVPx2ws"
      },
      "execution_count": 129,
      "outputs": []
    },
    {
      "cell_type": "markdown",
      "source": [
        "#The Classifier"
      ],
      "metadata": {
        "id": "MspIhF2y02AK"
      }
    },
    {
      "cell_type": "markdown",
      "source": [
        "###Loss Function, Optimisation Algorithm and Regularisation"
      ],
      "metadata": {
        "id": "QEJaewOOHhUA"
      }
    },
    {
      "cell_type": "markdown",
      "source": [
        "* Softmax cross-entropy - `nn.CrossEntropyLoss()` - is used as the loss function.\n",
        "* Mean squared error loss - `nn.MSELoss()` - is also experimented with as a loss function but it returns a lower accuracy.\n",
        "* Minibatch SGD - `torch.optim.SGD` - with a learning rate of 0.05 is used as the opimisation algorithm.\n",
        "* Of the values experimented with for the learning rate, 0.05 returns the highest accuracy.\n",
        "* Weight decay is used as the  regularisation technique. Of the values experimented with, 0.0005 returns the highest accuracy.\n",
        "* Dropout was also experimented with but returned lower accuracies. \n",
        "* For dropout, the following values for the probability of an element to be zeroed were experimented with: 0.2, 0.5 (default) and 0.8. Of these values, 0.2 returned the highest accuracy."
      ],
      "metadata": {
        "id": "T2W0HLZcgyYK"
      }
    },
    {
      "cell_type": "code",
      "source": [
        "loss = nn.CrossEntropyLoss()\n",
        "lr, wd = 0.05, 0.0005 \n",
        "\n",
        "optimiser = torch.optim.SGD(net.parameters(), lr=lr, weight_decay=wd)"
      ],
      "metadata": {
        "id": "t89WFeADPQ5T"
      },
      "execution_count": 130,
      "outputs": []
    },
    {
      "cell_type": "markdown",
      "source": [
        "###Evaluation"
      ],
      "metadata": {
        "id": "skZnsN303RT9"
      }
    },
    {
      "cell_type": "markdown",
      "source": [
        "* The `accuracy` function below computes the number of correct predictions that the model makes.\n",
        "* `y_hat` is a matrix, the second dimension of which stores prediction scores for each class."
      ],
      "metadata": {
        "id": "Ce_H4NgAB-b4"
      }
    },
    {
      "cell_type": "code",
      "source": [
        "def accuracy(y_hat, y):  \n",
        "    if len(y_hat.shape) > 1 and y_hat.shape[1] > 1:\n",
        "        y_hat = y_hat.argmax(axis=1)          \n",
        "    cmp = (y_hat.type(y.dtype) == y)  \n",
        "    return float(torch.sum(cmp)) "
      ],
      "metadata": {
        "id": "gFltl1qL5V8Z"
      },
      "execution_count": 131,
      "outputs": []
    },
    {
      "cell_type": "markdown",
      "source": [
        "* The class below is used to accumulate sums over a given number of variables."
      ],
      "metadata": {
        "id": "N-IMbnFBCetF"
      }
    },
    {
      "cell_type": "code",
      "source": [
        "class Accumulator:  \n",
        "    def __init__(self, n):\n",
        "        self.data = [0.0] * n \n",
        "    def add(self, *args):\n",
        "        self.data = [a + float(b) for a, b in zip(self.data, args)]\n",
        "    def reset(self):\n",
        "        self.data = [0.0] * len(self.data)\n",
        "    def __getitem__(self, idx):\n",
        "        return self.data[idx]"
      ],
      "metadata": {
        "id": "GcqcriR6_nzq"
      },
      "execution_count": 132,
      "outputs": []
    },
    {
      "cell_type": "markdown",
      "source": [
        "* Finally, the function below computes the accuracy."
      ],
      "metadata": {
        "id": "kMgjs7u0C4r6"
      }
    },
    {
      "cell_type": "code",
      "source": [
        "def evaluate_accuracy(net, data_iter): \n",
        "    metric = Accumulator(2)  \n",
        "    for _, (X, y) in enumerate(data_iter):\n",
        "        metric.add(accuracy(net(X), y), y.numel())\n",
        "    return metric[0] / metric[1]"
      ],
      "metadata": {
        "id": "oJw6COPE_t0e"
      },
      "execution_count": 133,
      "outputs": []
    },
    {
      "cell_type": "markdown",
      "source": [
        "###Training"
      ],
      "metadata": {
        "id": "6X7n0Hnb078T"
      }
    },
    {
      "cell_type": "markdown",
      "source": [
        "* Below, a function is defined to train a single epoch.\n",
        "* First the model is set to training mode, then the gradients are computed and the parameters are updated and finally the training loss and accuracy are returned."
      ],
      "metadata": {
        "id": "5iQvlNb05gMP"
      }
    },
    {
      "cell_type": "code",
      "source": [
        "def train_epoch_ch3(net, train_iter, loss, optimiser, batch_size=256, num_outputs=10):  \n",
        "    if isinstance(net, torch.nn.Module):\n",
        "        net.train()\n",
        "    metric = Accumulator(3)\n",
        "    for X, y in train_iter:\n",
        "        y_hat = net(X)\n",
        "        l = loss(y_hat, y)\n",
        "        optimiser.zero_grad()\n",
        "        l.backward()\n",
        "        optimiser.step()\n",
        "        metric.add(float(l) * len(y), accuracy(y_hat, y), y.size().numel())\n",
        "    return metric[0] / metric[2], metric[1] / metric[2]"
      ],
      "metadata": {
        "id": "Hd1EM1EC87cv"
      },
      "execution_count": 134,
      "outputs": []
    },
    {
      "cell_type": "markdown",
      "source": [
        "* The class below is used to incrementally plot training loss, training accuracy and test accuracy for each epoch."
      ],
      "metadata": {
        "id": "tf6-LJQFAKDH"
      }
    },
    {
      "cell_type": "code",
      "source": [
        "class Animator:  \n",
        "    def __init__(self, xlabel=None, ylabel=None, legend=None, xlim=None,\n",
        "                 ylim=None, xscale='linear', yscale='linear',\n",
        "                 fmts=('-', 'm--', 'g-.', 'r:'), nrows=1, ncols=1,\n",
        "                 figsize=(3.5, 2.5)):\n",
        "        if legend is None:\n",
        "            legend = []\n",
        "        mu.use_svg_display()\n",
        "        self.fig, self.axes = mu.plt.subplots(nrows, ncols, figsize=figsize)\n",
        "        if nrows * ncols == 1:\n",
        "            self.axes = [self.axes, ]\n",
        "        self.config_axes = lambda: mu.set_axes(\n",
        "            self.axes[0], xlabel, ylabel, xlim, ylim, xscale, yscale, legend)\n",
        "        self.X, self.Y, self.fmts = None, None, fmts\n",
        "\n",
        "    def add(self, x, y):\n",
        "        if not hasattr(y):\n",
        "            y = [y]\n",
        "        n = len(y)\n",
        "        if not hasattr(x):\n",
        "            x = [x] * n\n",
        "        if not self.X:\n",
        "            self.X = [[] for _ in range(n)]\n",
        "        if not self.Y:\n",
        "            self.Y = [[] for _ in range(n)]\n",
        "        for i, (a, b) in enumerate(zip(x, y)):\n",
        "            if a is not None and b is not None:\n",
        "                self.X[i].append(a)\n",
        "                self.Y[i].append(b)\n",
        "        self.axes[0].cla()\n",
        "        for x, y, fmt in zip(self.X, self.Y, self.fmts):\n",
        "            self.axes[0].plot(x, y, fmt)\n",
        "        self.config_axes()\n",
        "        display.display(self.fig)\n",
        "        display.clear_output(wait=True)"
      ],
      "metadata": {
        "id": "xvMlOYxL92kG"
      },
      "execution_count": 135,
      "outputs": []
    },
    {
      "cell_type": "markdown",
      "source": [
        "* The function below trains the model."
      ],
      "metadata": {
        "id": "2MsPWyLPGpM-"
      }
    },
    {
      "cell_type": "code",
      "source": [
        "def train_ch3(net, train_iter, test_iter, loss, num_epochs, optimiser): \n",
        "    animator = Animator(xlabel='epoch', xlim=[0, num_epochs], ylim=[0.1, 1],\n",
        "                        legend=['train loss', 'train acc', 'test acc'])\n",
        "    for epoch in range(num_epochs):\n",
        "        train_metrics = train_epoch_ch3(net, train_iter, loss, optimiser)\n",
        "        test_acc = evaluate_accuracy(net, test_iter)\n",
        "        animator.add(epoch + 1, train_metrics + (test_acc,))\n",
        "    train_loss, train_acc = train_metrics"
      ],
      "metadata": {
        "id": "kRY_lgzB9w1u"
      },
      "execution_count": 136,
      "outputs": []
    },
    {
      "cell_type": "code",
      "source": [
        "num_epochs = 100\n",
        "mu.train_ch3(net, train_iter, test_iter, loss, num_epochs, optimiser)"
      ],
      "metadata": {
        "colab": {
          "base_uri": "https://localhost:8080/",
          "height": 262
        },
        "id": "Fxoz2Ib4OwTJ",
        "outputId": "5ed0f021-9397-4b79-97f2-9c43c918fdda"
      },
      "execution_count": 144,
      "outputs": [
        {
          "output_type": "display_data",
          "data": {
            "text/plain": [
              "<Figure size 252x180 with 1 Axes>"
            ],
            "image/svg+xml": "<?xml version=\"1.0\" encoding=\"utf-8\" standalone=\"no\"?>\n<!DOCTYPE svg PUBLIC \"-//W3C//DTD SVG 1.1//EN\"\n  \"http://www.w3.org/Graphics/SVG/1.1/DTD/svg11.dtd\">\n<!-- Created with matplotlib (https://matplotlib.org/) -->\n<svg height=\"180.65625pt\" version=\"1.1\" viewBox=\"0 0 242.146875 180.65625\" width=\"242.146875pt\" xmlns=\"http://www.w3.org/2000/svg\" xmlns:xlink=\"http://www.w3.org/1999/xlink\">\n <defs>\n  <style type=\"text/css\">\n*{stroke-linecap:butt;stroke-linejoin:round;}\n  </style>\n </defs>\n <g id=\"figure_1\">\n  <g id=\"patch_1\">\n   <path d=\"M 0 180.65625 \nL 242.146875 180.65625 \nL 242.146875 0 \nL 0 0 \nz\n\" style=\"fill:none;\"/>\n  </g>\n  <g id=\"axes_1\">\n   <g id=\"patch_2\">\n    <path d=\"M 30.103125 143.1 \nL 225.403125 143.1 \nL 225.403125 7.2 \nL 30.103125 7.2 \nz\n\" style=\"fill:#ffffff;\"/>\n   </g>\n   <g id=\"matplotlib.axis_1\">\n    <g id=\"xtick_1\">\n     <g id=\"line2d_1\">\n      <path clip-path=\"url(#pc5d548190d)\" d=\"M 67.584943 143.1 \nL 67.584943 7.2 \n\" style=\"fill:none;stroke:#b0b0b0;stroke-linecap:square;stroke-width:0.8;\"/>\n     </g>\n     <g id=\"line2d_2\">\n      <defs>\n       <path d=\"M 0 0 \nL 0 3.5 \n\" id=\"me0633b94df\" style=\"stroke:#000000;stroke-width:0.8;\"/>\n      </defs>\n      <g>\n       <use style=\"stroke:#000000;stroke-width:0.8;\" x=\"67.584943\" xlink:href=\"#me0633b94df\" y=\"143.1\"/>\n      </g>\n     </g>\n     <g id=\"text_1\">\n      <!-- 20 -->\n      <defs>\n       <path d=\"M 19.1875 8.296875 \nL 53.609375 8.296875 \nL 53.609375 0 \nL 7.328125 0 \nL 7.328125 8.296875 \nQ 12.9375 14.109375 22.625 23.890625 \nQ 32.328125 33.6875 34.8125 36.53125 \nQ 39.546875 41.84375 41.421875 45.53125 \nQ 43.3125 49.21875 43.3125 52.78125 \nQ 43.3125 58.59375 39.234375 62.25 \nQ 35.15625 65.921875 28.609375 65.921875 \nQ 23.96875 65.921875 18.8125 64.3125 \nQ 13.671875 62.703125 7.8125 59.421875 \nL 7.8125 69.390625 \nQ 13.765625 71.78125 18.9375 73 \nQ 24.125 74.21875 28.421875 74.21875 \nQ 39.75 74.21875 46.484375 68.546875 \nQ 53.21875 62.890625 53.21875 53.421875 \nQ 53.21875 48.921875 51.53125 44.890625 \nQ 49.859375 40.875 45.40625 35.40625 \nQ 44.1875 33.984375 37.640625 27.21875 \nQ 31.109375 20.453125 19.1875 8.296875 \nz\n\" id=\"DejaVuSans-50\"/>\n       <path d=\"M 31.78125 66.40625 \nQ 24.171875 66.40625 20.328125 58.90625 \nQ 16.5 51.421875 16.5 36.375 \nQ 16.5 21.390625 20.328125 13.890625 \nQ 24.171875 6.390625 31.78125 6.390625 \nQ 39.453125 6.390625 43.28125 13.890625 \nQ 47.125 21.390625 47.125 36.375 \nQ 47.125 51.421875 43.28125 58.90625 \nQ 39.453125 66.40625 31.78125 66.40625 \nz\nM 31.78125 74.21875 \nQ 44.046875 74.21875 50.515625 64.515625 \nQ 56.984375 54.828125 56.984375 36.375 \nQ 56.984375 17.96875 50.515625 8.265625 \nQ 44.046875 -1.421875 31.78125 -1.421875 \nQ 19.53125 -1.421875 13.0625 8.265625 \nQ 6.59375 17.96875 6.59375 36.375 \nQ 6.59375 54.828125 13.0625 64.515625 \nQ 19.53125 74.21875 31.78125 74.21875 \nz\n\" id=\"DejaVuSans-48\"/>\n      </defs>\n      <g transform=\"translate(61.222443 157.698438)scale(0.1 -0.1)\">\n       <use xlink:href=\"#DejaVuSans-50\"/>\n       <use x=\"63.623047\" xlink:href=\"#DejaVuSans-48\"/>\n      </g>\n     </g>\n    </g>\n    <g id=\"xtick_2\">\n     <g id=\"line2d_3\">\n      <path clip-path=\"url(#pc5d548190d)\" d=\"M 107.039489 143.1 \nL 107.039489 7.2 \n\" style=\"fill:none;stroke:#b0b0b0;stroke-linecap:square;stroke-width:0.8;\"/>\n     </g>\n     <g id=\"line2d_4\">\n      <g>\n       <use style=\"stroke:#000000;stroke-width:0.8;\" x=\"107.039489\" xlink:href=\"#me0633b94df\" y=\"143.1\"/>\n      </g>\n     </g>\n     <g id=\"text_2\">\n      <!-- 40 -->\n      <defs>\n       <path d=\"M 37.796875 64.3125 \nL 12.890625 25.390625 \nL 37.796875 25.390625 \nz\nM 35.203125 72.90625 \nL 47.609375 72.90625 \nL 47.609375 25.390625 \nL 58.015625 25.390625 \nL 58.015625 17.1875 \nL 47.609375 17.1875 \nL 47.609375 0 \nL 37.796875 0 \nL 37.796875 17.1875 \nL 4.890625 17.1875 \nL 4.890625 26.703125 \nz\n\" id=\"DejaVuSans-52\"/>\n      </defs>\n      <g transform=\"translate(100.676989 157.698438)scale(0.1 -0.1)\">\n       <use xlink:href=\"#DejaVuSans-52\"/>\n       <use x=\"63.623047\" xlink:href=\"#DejaVuSans-48\"/>\n      </g>\n     </g>\n    </g>\n    <g id=\"xtick_3\">\n     <g id=\"line2d_5\">\n      <path clip-path=\"url(#pc5d548190d)\" d=\"M 146.494034 143.1 \nL 146.494034 7.2 \n\" style=\"fill:none;stroke:#b0b0b0;stroke-linecap:square;stroke-width:0.8;\"/>\n     </g>\n     <g id=\"line2d_6\">\n      <g>\n       <use style=\"stroke:#000000;stroke-width:0.8;\" x=\"146.494034\" xlink:href=\"#me0633b94df\" y=\"143.1\"/>\n      </g>\n     </g>\n     <g id=\"text_3\">\n      <!-- 60 -->\n      <defs>\n       <path d=\"M 33.015625 40.375 \nQ 26.375 40.375 22.484375 35.828125 \nQ 18.609375 31.296875 18.609375 23.390625 \nQ 18.609375 15.53125 22.484375 10.953125 \nQ 26.375 6.390625 33.015625 6.390625 \nQ 39.65625 6.390625 43.53125 10.953125 \nQ 47.40625 15.53125 47.40625 23.390625 \nQ 47.40625 31.296875 43.53125 35.828125 \nQ 39.65625 40.375 33.015625 40.375 \nz\nM 52.59375 71.296875 \nL 52.59375 62.3125 \nQ 48.875 64.0625 45.09375 64.984375 \nQ 41.3125 65.921875 37.59375 65.921875 \nQ 27.828125 65.921875 22.671875 59.328125 \nQ 17.53125 52.734375 16.796875 39.40625 \nQ 19.671875 43.65625 24.015625 45.921875 \nQ 28.375 48.1875 33.59375 48.1875 \nQ 44.578125 48.1875 50.953125 41.515625 \nQ 57.328125 34.859375 57.328125 23.390625 \nQ 57.328125 12.15625 50.6875 5.359375 \nQ 44.046875 -1.421875 33.015625 -1.421875 \nQ 20.359375 -1.421875 13.671875 8.265625 \nQ 6.984375 17.96875 6.984375 36.375 \nQ 6.984375 53.65625 15.1875 63.9375 \nQ 23.390625 74.21875 37.203125 74.21875 \nQ 40.921875 74.21875 44.703125 73.484375 \nQ 48.484375 72.75 52.59375 71.296875 \nz\n\" id=\"DejaVuSans-54\"/>\n      </defs>\n      <g transform=\"translate(140.131534 157.698438)scale(0.1 -0.1)\">\n       <use xlink:href=\"#DejaVuSans-54\"/>\n       <use x=\"63.623047\" xlink:href=\"#DejaVuSans-48\"/>\n      </g>\n     </g>\n    </g>\n    <g id=\"xtick_4\">\n     <g id=\"line2d_7\">\n      <path clip-path=\"url(#pc5d548190d)\" d=\"M 185.94858 143.1 \nL 185.94858 7.2 \n\" style=\"fill:none;stroke:#b0b0b0;stroke-linecap:square;stroke-width:0.8;\"/>\n     </g>\n     <g id=\"line2d_8\">\n      <g>\n       <use style=\"stroke:#000000;stroke-width:0.8;\" x=\"185.94858\" xlink:href=\"#me0633b94df\" y=\"143.1\"/>\n      </g>\n     </g>\n     <g id=\"text_4\">\n      <!-- 80 -->\n      <defs>\n       <path d=\"M 31.78125 34.625 \nQ 24.75 34.625 20.71875 30.859375 \nQ 16.703125 27.09375 16.703125 20.515625 \nQ 16.703125 13.921875 20.71875 10.15625 \nQ 24.75 6.390625 31.78125 6.390625 \nQ 38.8125 6.390625 42.859375 10.171875 \nQ 46.921875 13.96875 46.921875 20.515625 \nQ 46.921875 27.09375 42.890625 30.859375 \nQ 38.875 34.625 31.78125 34.625 \nz\nM 21.921875 38.8125 \nQ 15.578125 40.375 12.03125 44.71875 \nQ 8.5 49.078125 8.5 55.328125 \nQ 8.5 64.0625 14.71875 69.140625 \nQ 20.953125 74.21875 31.78125 74.21875 \nQ 42.671875 74.21875 48.875 69.140625 \nQ 55.078125 64.0625 55.078125 55.328125 \nQ 55.078125 49.078125 51.53125 44.71875 \nQ 48 40.375 41.703125 38.8125 \nQ 48.828125 37.15625 52.796875 32.3125 \nQ 56.78125 27.484375 56.78125 20.515625 \nQ 56.78125 9.90625 50.3125 4.234375 \nQ 43.84375 -1.421875 31.78125 -1.421875 \nQ 19.734375 -1.421875 13.25 4.234375 \nQ 6.78125 9.90625 6.78125 20.515625 \nQ 6.78125 27.484375 10.78125 32.3125 \nQ 14.796875 37.15625 21.921875 38.8125 \nz\nM 18.3125 54.390625 \nQ 18.3125 48.734375 21.84375 45.5625 \nQ 25.390625 42.390625 31.78125 42.390625 \nQ 38.140625 42.390625 41.71875 45.5625 \nQ 45.3125 48.734375 45.3125 54.390625 \nQ 45.3125 60.0625 41.71875 63.234375 \nQ 38.140625 66.40625 31.78125 66.40625 \nQ 25.390625 66.40625 21.84375 63.234375 \nQ 18.3125 60.0625 18.3125 54.390625 \nz\n\" id=\"DejaVuSans-56\"/>\n      </defs>\n      <g transform=\"translate(179.58608 157.698438)scale(0.1 -0.1)\">\n       <use xlink:href=\"#DejaVuSans-56\"/>\n       <use x=\"63.623047\" xlink:href=\"#DejaVuSans-48\"/>\n      </g>\n     </g>\n    </g>\n    <g id=\"xtick_5\">\n     <g id=\"line2d_9\">\n      <path clip-path=\"url(#pc5d548190d)\" d=\"M 225.403125 143.1 \nL 225.403125 7.2 \n\" style=\"fill:none;stroke:#b0b0b0;stroke-linecap:square;stroke-width:0.8;\"/>\n     </g>\n     <g id=\"line2d_10\">\n      <g>\n       <use style=\"stroke:#000000;stroke-width:0.8;\" x=\"225.403125\" xlink:href=\"#me0633b94df\" y=\"143.1\"/>\n      </g>\n     </g>\n     <g id=\"text_5\">\n      <!-- 100 -->\n      <defs>\n       <path d=\"M 12.40625 8.296875 \nL 28.515625 8.296875 \nL 28.515625 63.921875 \nL 10.984375 60.40625 \nL 10.984375 69.390625 \nL 28.421875 72.90625 \nL 38.28125 72.90625 \nL 38.28125 8.296875 \nL 54.390625 8.296875 \nL 54.390625 0 \nL 12.40625 0 \nz\n\" id=\"DejaVuSans-49\"/>\n      </defs>\n      <g transform=\"translate(215.859375 157.698438)scale(0.1 -0.1)\">\n       <use xlink:href=\"#DejaVuSans-49\"/>\n       <use x=\"63.623047\" xlink:href=\"#DejaVuSans-48\"/>\n       <use x=\"127.246094\" xlink:href=\"#DejaVuSans-48\"/>\n      </g>\n     </g>\n    </g>\n    <g id=\"text_6\">\n     <!-- epoch -->\n     <defs>\n      <path d=\"M 56.203125 29.59375 \nL 56.203125 25.203125 \nL 14.890625 25.203125 \nQ 15.484375 15.921875 20.484375 11.0625 \nQ 25.484375 6.203125 34.421875 6.203125 \nQ 39.59375 6.203125 44.453125 7.46875 \nQ 49.3125 8.734375 54.109375 11.28125 \nL 54.109375 2.78125 \nQ 49.265625 0.734375 44.1875 -0.34375 \nQ 39.109375 -1.421875 33.890625 -1.421875 \nQ 20.796875 -1.421875 13.15625 6.1875 \nQ 5.515625 13.8125 5.515625 26.8125 \nQ 5.515625 40.234375 12.765625 48.109375 \nQ 20.015625 56 32.328125 56 \nQ 43.359375 56 49.78125 48.890625 \nQ 56.203125 41.796875 56.203125 29.59375 \nz\nM 47.21875 32.234375 \nQ 47.125 39.59375 43.09375 43.984375 \nQ 39.0625 48.390625 32.421875 48.390625 \nQ 24.90625 48.390625 20.390625 44.140625 \nQ 15.875 39.890625 15.1875 32.171875 \nz\n\" id=\"DejaVuSans-101\"/>\n      <path d=\"M 18.109375 8.203125 \nL 18.109375 -20.796875 \nL 9.078125 -20.796875 \nL 9.078125 54.6875 \nL 18.109375 54.6875 \nL 18.109375 46.390625 \nQ 20.953125 51.265625 25.265625 53.625 \nQ 29.59375 56 35.59375 56 \nQ 45.5625 56 51.78125 48.09375 \nQ 58.015625 40.1875 58.015625 27.296875 \nQ 58.015625 14.40625 51.78125 6.484375 \nQ 45.5625 -1.421875 35.59375 -1.421875 \nQ 29.59375 -1.421875 25.265625 0.953125 \nQ 20.953125 3.328125 18.109375 8.203125 \nz\nM 48.6875 27.296875 \nQ 48.6875 37.203125 44.609375 42.84375 \nQ 40.53125 48.484375 33.40625 48.484375 \nQ 26.265625 48.484375 22.1875 42.84375 \nQ 18.109375 37.203125 18.109375 27.296875 \nQ 18.109375 17.390625 22.1875 11.75 \nQ 26.265625 6.109375 33.40625 6.109375 \nQ 40.53125 6.109375 44.609375 11.75 \nQ 48.6875 17.390625 48.6875 27.296875 \nz\n\" id=\"DejaVuSans-112\"/>\n      <path d=\"M 30.609375 48.390625 \nQ 23.390625 48.390625 19.1875 42.75 \nQ 14.984375 37.109375 14.984375 27.296875 \nQ 14.984375 17.484375 19.15625 11.84375 \nQ 23.34375 6.203125 30.609375 6.203125 \nQ 37.796875 6.203125 41.984375 11.859375 \nQ 46.1875 17.53125 46.1875 27.296875 \nQ 46.1875 37.015625 41.984375 42.703125 \nQ 37.796875 48.390625 30.609375 48.390625 \nz\nM 30.609375 56 \nQ 42.328125 56 49.015625 48.375 \nQ 55.71875 40.765625 55.71875 27.296875 \nQ 55.71875 13.875 49.015625 6.21875 \nQ 42.328125 -1.421875 30.609375 -1.421875 \nQ 18.84375 -1.421875 12.171875 6.21875 \nQ 5.515625 13.875 5.515625 27.296875 \nQ 5.515625 40.765625 12.171875 48.375 \nQ 18.84375 56 30.609375 56 \nz\n\" id=\"DejaVuSans-111\"/>\n      <path d=\"M 48.78125 52.59375 \nL 48.78125 44.1875 \nQ 44.96875 46.296875 41.140625 47.34375 \nQ 37.3125 48.390625 33.40625 48.390625 \nQ 24.65625 48.390625 19.8125 42.84375 \nQ 14.984375 37.3125 14.984375 27.296875 \nQ 14.984375 17.28125 19.8125 11.734375 \nQ 24.65625 6.203125 33.40625 6.203125 \nQ 37.3125 6.203125 41.140625 7.25 \nQ 44.96875 8.296875 48.78125 10.40625 \nL 48.78125 2.09375 \nQ 45.015625 0.34375 40.984375 -0.53125 \nQ 36.96875 -1.421875 32.421875 -1.421875 \nQ 20.0625 -1.421875 12.78125 6.34375 \nQ 5.515625 14.109375 5.515625 27.296875 \nQ 5.515625 40.671875 12.859375 48.328125 \nQ 20.21875 56 33.015625 56 \nQ 37.15625 56 41.109375 55.140625 \nQ 45.0625 54.296875 48.78125 52.59375 \nz\n\" id=\"DejaVuSans-99\"/>\n      <path d=\"M 54.890625 33.015625 \nL 54.890625 0 \nL 45.90625 0 \nL 45.90625 32.71875 \nQ 45.90625 40.484375 42.875 44.328125 \nQ 39.84375 48.1875 33.796875 48.1875 \nQ 26.515625 48.1875 22.3125 43.546875 \nQ 18.109375 38.921875 18.109375 30.90625 \nL 18.109375 0 \nL 9.078125 0 \nL 9.078125 75.984375 \nL 18.109375 75.984375 \nL 18.109375 46.1875 \nQ 21.34375 51.125 25.703125 53.5625 \nQ 30.078125 56 35.796875 56 \nQ 45.21875 56 50.046875 50.171875 \nQ 54.890625 44.34375 54.890625 33.015625 \nz\n\" id=\"DejaVuSans-104\"/>\n     </defs>\n     <g transform=\"translate(112.525 171.376563)scale(0.1 -0.1)\">\n      <use xlink:href=\"#DejaVuSans-101\"/>\n      <use x=\"61.523438\" xlink:href=\"#DejaVuSans-112\"/>\n      <use x=\"125\" xlink:href=\"#DejaVuSans-111\"/>\n      <use x=\"186.181641\" xlink:href=\"#DejaVuSans-99\"/>\n      <use x=\"241.162109\" xlink:href=\"#DejaVuSans-104\"/>\n     </g>\n    </g>\n   </g>\n   <g id=\"matplotlib.axis_2\">\n    <g id=\"ytick_1\">\n     <g id=\"line2d_11\">\n      <path clip-path=\"url(#pc5d548190d)\" d=\"M 30.103125 120.45 \nL 225.403125 120.45 \n\" style=\"fill:none;stroke:#b0b0b0;stroke-linecap:square;stroke-width:0.8;\"/>\n     </g>\n     <g id=\"line2d_12\">\n      <defs>\n       <path d=\"M 0 0 \nL -3.5 0 \n\" id=\"m06c805d440\" style=\"stroke:#000000;stroke-width:0.8;\"/>\n      </defs>\n      <g>\n       <use style=\"stroke:#000000;stroke-width:0.8;\" x=\"30.103125\" xlink:href=\"#m06c805d440\" y=\"120.45\"/>\n      </g>\n     </g>\n     <g id=\"text_7\">\n      <!-- 0.4 -->\n      <defs>\n       <path d=\"M 10.6875 12.40625 \nL 21 12.40625 \nL 21 0 \nL 10.6875 0 \nz\n\" id=\"DejaVuSans-46\"/>\n      </defs>\n      <g transform=\"translate(7.2 124.249219)scale(0.1 -0.1)\">\n       <use xlink:href=\"#DejaVuSans-48\"/>\n       <use x=\"63.623047\" xlink:href=\"#DejaVuSans-46\"/>\n       <use x=\"95.410156\" xlink:href=\"#DejaVuSans-52\"/>\n      </g>\n     </g>\n    </g>\n    <g id=\"ytick_2\">\n     <g id=\"line2d_13\">\n      <path clip-path=\"url(#pc5d548190d)\" d=\"M 30.103125 75.15 \nL 225.403125 75.15 \n\" style=\"fill:none;stroke:#b0b0b0;stroke-linecap:square;stroke-width:0.8;\"/>\n     </g>\n     <g id=\"line2d_14\">\n      <g>\n       <use style=\"stroke:#000000;stroke-width:0.8;\" x=\"30.103125\" xlink:href=\"#m06c805d440\" y=\"75.15\"/>\n      </g>\n     </g>\n     <g id=\"text_8\">\n      <!-- 0.6 -->\n      <g transform=\"translate(7.2 78.949219)scale(0.1 -0.1)\">\n       <use xlink:href=\"#DejaVuSans-48\"/>\n       <use x=\"63.623047\" xlink:href=\"#DejaVuSans-46\"/>\n       <use x=\"95.410156\" xlink:href=\"#DejaVuSans-54\"/>\n      </g>\n     </g>\n    </g>\n    <g id=\"ytick_3\">\n     <g id=\"line2d_15\">\n      <path clip-path=\"url(#pc5d548190d)\" d=\"M 30.103125 29.85 \nL 225.403125 29.85 \n\" style=\"fill:none;stroke:#b0b0b0;stroke-linecap:square;stroke-width:0.8;\"/>\n     </g>\n     <g id=\"line2d_16\">\n      <g>\n       <use style=\"stroke:#000000;stroke-width:0.8;\" x=\"30.103125\" xlink:href=\"#m06c805d440\" y=\"29.85\"/>\n      </g>\n     </g>\n     <g id=\"text_9\">\n      <!-- 0.8 -->\n      <g transform=\"translate(7.2 33.649219)scale(0.1 -0.1)\">\n       <use xlink:href=\"#DejaVuSans-48\"/>\n       <use x=\"63.623047\" xlink:href=\"#DejaVuSans-46\"/>\n       <use x=\"95.410156\" xlink:href=\"#DejaVuSans-56\"/>\n      </g>\n     </g>\n    </g>\n   </g>\n   <g id=\"line2d_17\">\n    <path clip-path=\"url(#pc5d548190d)\" d=\"M 30.103125 145.628228 \nL 32.075852 145.889856 \nL 34.04858 145.698631 \nL 36.021307 146.586459 \nL 37.994034 146.978067 \nL 39.966761 147.290731 \nL 41.939489 147.422666 \nL 43.912216 147.619409 \nL 45.884943 147.68921 \nL 47.85767 148.259561 \nL 49.830398 148.47279 \nL 51.803125 148.889527 \nL 53.775852 149.33056 \nL 55.74858 149.162019 \nL 57.721307 149.302052 \nL 59.694034 149.710024 \nL 61.666761 149.969844 \nL 63.639489 150.493915 \nL 65.612216 150.468251 \nL 67.584943 150.660265 \nL 69.55767 151.119143 \nL 71.530398 151.358631 \nL 73.503125 151.686058 \nL 75.475852 151.64135 \nL 77.44858 152.018001 \nL 79.421307 152.280816 \nL 81.394034 152.264867 \nL 83.366761 152.798393 \nL 85.339489 152.902972 \nL 87.312216 153.304742 \nL 89.284943 152.901573 \nL 91.25767 153.300422 \nL 93.230398 153.830061 \nL 95.203125 153.884021 \nL 97.175852 154.080448 \nL 99.14858 154.081445 \nL 101.121307 154.331695 \nL 103.094034 154.788342 \nL 105.066761 154.974442 \nL 107.039489 155.18009 \nL 109.012216 154.762659 \nL 110.984943 155.37236 \nL 112.95767 155.632155 \nL 114.930398 155.818941 \nL 116.903125 156.025937 \nL 118.875852 155.809911 \nL 120.84858 156.106005 \nL 122.821307 156.33506 \nL 124.794034 156.51284 \nL 126.766761 156.733752 \nL 128.739489 157.073175 \nL 130.712216 157.170421 \nL 132.684943 157.183725 \nL 134.65767 157.514815 \nL 136.630398 157.53866 \nL 138.603125 157.439411 \nL 140.575852 157.673979 \nL 142.54858 157.919278 \nL 144.521307 158.090937 \nL 146.494034 158.242158 \nL 148.466761 158.613861 \nL 150.439489 158.901368 \nL 152.412216 158.810837 \nL 154.384943 158.870827 \nL 156.35767 159.198149 \nL 158.330398 159.414024 \nL 160.303125 159.394669 \nL 162.275852 159.338992 \nL 164.24858 159.329218 \nL 166.221307 159.584134 \nL 168.194034 159.910522 \nL 170.166761 159.735118 \nL 172.139489 159.982343 \nL 174.112216 159.741025 \nL 176.084943 160.063441 \nL 178.05767 160.876523 \nL 180.030398 160.621159 \nL 182.003125 160.725537 \nL 183.975852 160.888455 \nL 185.94858 160.987637 \nL 187.921307 160.886394 \nL 189.894034 161.14809 \nL 191.866761 161.289645 \nL 193.839489 161.716535 \nL 195.812216 161.75122 \nL 197.784943 161.728832 \nL 199.75767 162.063226 \nL 201.730398 162.097182 \nL 203.703125 161.86444 \nL 205.675852 162.102449 \nL 207.64858 162.24952 \nL 209.621307 162.448887 \nL 211.594034 162.803208 \nL 213.566761 162.449251 \nL 215.539489 162.63431 \nL 217.512216 162.69652 \nL 219.484943 163.040579 \nL 221.45767 162.91169 \nL 223.430398 163.442049 \nL 225.403125 163.442075 \n\" style=\"fill:none;stroke:#1f77b4;stroke-linecap:square;stroke-width:1.5;\"/>\n   </g>\n   <g id=\"line2d_18\">\n    <path clip-path=\"url(#pc5d548190d)\" d=\"M 30.103125 7.49445 \nL 32.075852 7.50955 \nL 34.04858 7.913475 \nL 36.021307 7.25285 \nL 37.994034 7.2151 \nL 39.966761 6.86025 \nL 41.939489 6.796075 \nL 43.912216 7.030125 \nL 45.884943 6.833825 \nL 47.85767 6.83005 \nL 49.830398 6.660175 \nL 51.803125 6.524275 \nL 53.775852 6.176975 \nL 55.74858 6.1732 \nL 57.721307 5.995775 \nL 59.694034 6.22605 \nL 61.666761 6.086375 \nL 63.639489 5.8712 \nL 65.612216 5.844775 \nL 67.584943 5.66735 \nL 69.55767 5.6598 \nL 71.530398 5.512575 \nL 73.503125 5.388 \nL 75.475852 5.63715 \nL 77.44858 5.28985 \nL 79.421307 5.03315 \nL 81.394034 5.157725 \nL 83.366761 5.067125 \nL 85.339489 5.014275 \nL 87.312216 4.810425 \nL 89.284943 5.12375 \nL 91.25767 4.772675 \nL 93.230398 4.26305 \nL 95.203125 4.45935 \nL 97.175852 4.463125 \nL 99.14858 4.58015 \nL 101.121307 4.32345 \nL 103.094034 4.14225 \nL 105.066761 4.03655 \nL 107.039489 4.085625 \nL 109.012216 4.26305 \nL 110.984943 3.776075 \nL 112.95767 3.87045 \nL 114.930398 3.957275 \nL 116.903125 3.7572 \nL 118.875852 3.896875 \nL 120.84858 3.625075 \nL 122.821307 3.5911 \nL 124.794034 3.443875 \nL 126.766761 3.6213 \nL 128.739489 3.307975 \nL 130.712216 3.29665 \nL 132.684943 3.1834 \nL 134.65767 3.1079 \nL 136.630398 3.066375 \nL 138.603125 3.073925 \nL 140.575852 2.900275 \nL 142.54858 2.972 \nL 144.521307 2.82855 \nL 146.494034 2.756825 \nL 148.466761 2.7455 \nL 150.439489 2.628475 \nL 152.412216 2.741725 \nL 154.384943 2.462375 \nL 156.35767 2.40575 \nL 158.330398 2.167925 \nL 160.303125 2.296275 \nL 162.275852 2.492575 \nL 164.24858 2.519 \nL 166.221307 2.31515 \nL 168.194034 2.14905 \nL 170.166761 2.51145 \nL 172.139489 2.122625 \nL 174.112216 2.22455 \nL 176.084943 2.0056 \nL 178.05767 1.60545 \nL 180.030398 2.009375 \nL 182.003125 1.96785 \nL 183.975852 2.0056 \nL 185.94858 1.84705 \nL 187.921307 1.8546 \nL 189.894034 1.730025 \nL 191.866761 1.730025 \nL 193.839489 1.360075 \nL 195.812216 1.54505 \nL 197.784943 1.6281 \nL 199.75767 1.261925 \nL 201.730398 1.36385 \nL 203.703125 1.2959 \nL 205.675852 1.25815 \nL 207.64858 1.10715 \nL 209.621307 1.269475 \nL 211.594034 0.8731 \nL 213.566761 1.239275 \nL 215.539489 0.967475 \nL 217.512216 0.9788 \nL 219.484943 0.92595 \nL 221.45767 0.944825 \nL 223.430398 0.854225 \nL 225.403125 0.8882 \n\" style=\"fill:none;stroke:#bf00bf;stroke-dasharray:5.55,2.4;stroke-dashoffset:0;stroke-width:1.5;\"/>\n   </g>\n   <g id=\"line2d_19\">\n    <path clip-path=\"url(#pc5d548190d)\" d=\"M 30.103125 12.93045 \nL 32.075852 13.1796 \nL 34.04858 14.2215 \nL 36.021307 13.88175 \nL 37.994034 12.29625 \nL 39.966761 14.8104 \nL 41.939489 13.88175 \nL 43.912216 14.47065 \nL 45.884943 16.7583 \nL 47.85767 15.6711 \nL 49.830398 11.7753 \nL 51.803125 13.42875 \nL 53.775852 11.8206 \nL 55.74858 14.15355 \nL 57.721307 12.5454 \nL 59.694034 14.2668 \nL 61.666761 13.1343 \nL 63.639489 13.65525 \nL 65.612216 14.4933 \nL 67.584943 12.97575 \nL 69.55767 13.60995 \nL 71.530398 14.96895 \nL 73.503125 13.9044 \nL 75.475852 12.3189 \nL 77.44858 14.4933 \nL 79.421307 13.0437 \nL 81.394034 11.84325 \nL 83.366761 12.43215 \nL 85.339489 11.97915 \nL 87.312216 13.42875 \nL 89.284943 15.6258 \nL 91.25767 12.9531 \nL 93.230398 11.6394 \nL 95.203125 12.06975 \nL 97.175852 13.02105 \nL 99.14858 11.277 \nL 101.121307 13.02105 \nL 103.094034 11.34495 \nL 105.066761 11.6394 \nL 107.039489 13.83645 \nL 109.012216 11.75265 \nL 110.984943 13.29285 \nL 112.95767 11.4582 \nL 114.930398 10.4616 \nL 116.903125 12.5907 \nL 118.875852 12.0471 \nL 120.84858 12.3189 \nL 122.821307 10.30305 \nL 124.794034 16.05615 \nL 126.766761 14.0403 \nL 128.739489 11.4129 \nL 130.712216 14.5839 \nL 132.684943 11.9112 \nL 134.65767 14.8104 \nL 136.630398 20.72205 \nL 138.603125 10.89195 \nL 140.575852 11.66205 \nL 142.54858 11.9565 \nL 144.521307 14.69715 \nL 146.494034 15.42195 \nL 148.466761 10.93725 \nL 150.439489 11.0505 \nL 152.412216 9.7368 \nL 154.384943 12.4095 \nL 156.35767 13.92705 \nL 158.330398 11.25435 \nL 160.303125 10.4616 \nL 162.275852 11.8206 \nL 164.24858 15.4446 \nL 166.221307 12.2283 \nL 168.194034 9.57825 \nL 170.166761 12.2736 \nL 172.139489 10.07655 \nL 174.112216 14.42535 \nL 176.084943 11.61675 \nL 178.05767 10.0086 \nL 180.030398 10.16715 \nL 182.003125 12.70395 \nL 183.975852 11.73 \nL 185.94858 10.2351 \nL 187.921307 13.0437 \nL 189.894034 13.38345 \nL 191.866761 10.03125 \nL 193.839489 11.57145 \nL 195.812216 9.6009 \nL 197.784943 10.52955 \nL 199.75767 9.39705 \nL 201.730398 10.39365 \nL 203.703125 10.3257 \nL 205.675852 10.52955 \nL 207.64858 12.2283 \nL 209.621307 11.07315 \nL 211.594034 10.80135 \nL 213.566761 11.9565 \nL 215.539489 12.74925 \nL 217.512216 10.3257 \nL 219.484943 9.26115 \nL 221.45767 12.5001 \nL 223.430398 9.85005 \nL 225.403125 10.6881 \n\" style=\"fill:none;stroke:#008000;stroke-dasharray:9.6,2.4,1.5,2.4;stroke-dashoffset:0;stroke-width:1.5;\"/>\n   </g>\n   <g id=\"patch_3\">\n    <path d=\"M 30.103125 143.1 \nL 30.103125 7.2 \n\" style=\"fill:none;stroke:#000000;stroke-linecap:square;stroke-linejoin:miter;stroke-width:0.8;\"/>\n   </g>\n   <g id=\"patch_4\">\n    <path d=\"M 225.403125 143.1 \nL 225.403125 7.2 \n\" style=\"fill:none;stroke:#000000;stroke-linecap:square;stroke-linejoin:miter;stroke-width:0.8;\"/>\n   </g>\n   <g id=\"patch_5\">\n    <path d=\"M 30.103125 143.1 \nL 225.403125 143.1 \n\" style=\"fill:none;stroke:#000000;stroke-linecap:square;stroke-linejoin:miter;stroke-width:0.8;\"/>\n   </g>\n   <g id=\"patch_6\">\n    <path d=\"M 30.103125 7.2 \nL 225.403125 7.2 \n\" style=\"fill:none;stroke:#000000;stroke-linecap:square;stroke-linejoin:miter;stroke-width:0.8;\"/>\n   </g>\n   <g id=\"legend_1\">\n    <g id=\"patch_7\">\n     <path d=\"M 37.103125 138.1 \nL 114.871875 138.1 \nQ 116.871875 138.1 116.871875 136.1 \nL 116.871875 93.065625 \nQ 116.871875 91.065625 114.871875 91.065625 \nL 37.103125 91.065625 \nQ 35.103125 91.065625 35.103125 93.065625 \nL 35.103125 136.1 \nQ 35.103125 138.1 37.103125 138.1 \nz\n\" style=\"fill:#ffffff;opacity:0.8;stroke:#cccccc;stroke-linejoin:miter;\"/>\n    </g>\n    <g id=\"line2d_20\">\n     <path d=\"M 39.103125 99.164062 \nL 59.103125 99.164062 \n\" style=\"fill:none;stroke:#1f77b4;stroke-linecap:square;stroke-width:1.5;\"/>\n    </g>\n    <g id=\"line2d_21\"/>\n    <g id=\"text_10\">\n     <!-- train loss -->\n     <defs>\n      <path d=\"M 18.3125 70.21875 \nL 18.3125 54.6875 \nL 36.8125 54.6875 \nL 36.8125 47.703125 \nL 18.3125 47.703125 \nL 18.3125 18.015625 \nQ 18.3125 11.328125 20.140625 9.421875 \nQ 21.96875 7.515625 27.59375 7.515625 \nL 36.8125 7.515625 \nL 36.8125 0 \nL 27.59375 0 \nQ 17.1875 0 13.234375 3.875 \nQ 9.28125 7.765625 9.28125 18.015625 \nL 9.28125 47.703125 \nL 2.6875 47.703125 \nL 2.6875 54.6875 \nL 9.28125 54.6875 \nL 9.28125 70.21875 \nz\n\" id=\"DejaVuSans-116\"/>\n      <path d=\"M 41.109375 46.296875 \nQ 39.59375 47.171875 37.8125 47.578125 \nQ 36.03125 48 33.890625 48 \nQ 26.265625 48 22.1875 43.046875 \nQ 18.109375 38.09375 18.109375 28.8125 \nL 18.109375 0 \nL 9.078125 0 \nL 9.078125 54.6875 \nL 18.109375 54.6875 \nL 18.109375 46.1875 \nQ 20.953125 51.171875 25.484375 53.578125 \nQ 30.03125 56 36.53125 56 \nQ 37.453125 56 38.578125 55.875 \nQ 39.703125 55.765625 41.0625 55.515625 \nz\n\" id=\"DejaVuSans-114\"/>\n      <path d=\"M 34.28125 27.484375 \nQ 23.390625 27.484375 19.1875 25 \nQ 14.984375 22.515625 14.984375 16.5 \nQ 14.984375 11.71875 18.140625 8.90625 \nQ 21.296875 6.109375 26.703125 6.109375 \nQ 34.1875 6.109375 38.703125 11.40625 \nQ 43.21875 16.703125 43.21875 25.484375 \nL 43.21875 27.484375 \nz\nM 52.203125 31.203125 \nL 52.203125 0 \nL 43.21875 0 \nL 43.21875 8.296875 \nQ 40.140625 3.328125 35.546875 0.953125 \nQ 30.953125 -1.421875 24.3125 -1.421875 \nQ 15.921875 -1.421875 10.953125 3.296875 \nQ 6 8.015625 6 15.921875 \nQ 6 25.140625 12.171875 29.828125 \nQ 18.359375 34.515625 30.609375 34.515625 \nL 43.21875 34.515625 \nL 43.21875 35.40625 \nQ 43.21875 41.609375 39.140625 45 \nQ 35.0625 48.390625 27.6875 48.390625 \nQ 23 48.390625 18.546875 47.265625 \nQ 14.109375 46.140625 10.015625 43.890625 \nL 10.015625 52.203125 \nQ 14.9375 54.109375 19.578125 55.046875 \nQ 24.21875 56 28.609375 56 \nQ 40.484375 56 46.34375 49.84375 \nQ 52.203125 43.703125 52.203125 31.203125 \nz\n\" id=\"DejaVuSans-97\"/>\n      <path d=\"M 9.421875 54.6875 \nL 18.40625 54.6875 \nL 18.40625 0 \nL 9.421875 0 \nz\nM 9.421875 75.984375 \nL 18.40625 75.984375 \nL 18.40625 64.59375 \nL 9.421875 64.59375 \nz\n\" id=\"DejaVuSans-105\"/>\n      <path d=\"M 54.890625 33.015625 \nL 54.890625 0 \nL 45.90625 0 \nL 45.90625 32.71875 \nQ 45.90625 40.484375 42.875 44.328125 \nQ 39.84375 48.1875 33.796875 48.1875 \nQ 26.515625 48.1875 22.3125 43.546875 \nQ 18.109375 38.921875 18.109375 30.90625 \nL 18.109375 0 \nL 9.078125 0 \nL 9.078125 54.6875 \nL 18.109375 54.6875 \nL 18.109375 46.1875 \nQ 21.34375 51.125 25.703125 53.5625 \nQ 30.078125 56 35.796875 56 \nQ 45.21875 56 50.046875 50.171875 \nQ 54.890625 44.34375 54.890625 33.015625 \nz\n\" id=\"DejaVuSans-110\"/>\n      <path id=\"DejaVuSans-32\"/>\n      <path d=\"M 9.421875 75.984375 \nL 18.40625 75.984375 \nL 18.40625 0 \nL 9.421875 0 \nz\n\" id=\"DejaVuSans-108\"/>\n      <path d=\"M 44.28125 53.078125 \nL 44.28125 44.578125 \nQ 40.484375 46.53125 36.375 47.5 \nQ 32.28125 48.484375 27.875 48.484375 \nQ 21.1875 48.484375 17.84375 46.4375 \nQ 14.5 44.390625 14.5 40.28125 \nQ 14.5 37.15625 16.890625 35.375 \nQ 19.28125 33.59375 26.515625 31.984375 \nL 29.59375 31.296875 \nQ 39.15625 29.25 43.1875 25.515625 \nQ 47.21875 21.78125 47.21875 15.09375 \nQ 47.21875 7.46875 41.1875 3.015625 \nQ 35.15625 -1.421875 24.609375 -1.421875 \nQ 20.21875 -1.421875 15.453125 -0.5625 \nQ 10.6875 0.296875 5.421875 2 \nL 5.421875 11.28125 \nQ 10.40625 8.6875 15.234375 7.390625 \nQ 20.0625 6.109375 24.8125 6.109375 \nQ 31.15625 6.109375 34.5625 8.28125 \nQ 37.984375 10.453125 37.984375 14.40625 \nQ 37.984375 18.0625 35.515625 20.015625 \nQ 33.0625 21.96875 24.703125 23.78125 \nL 21.578125 24.515625 \nQ 13.234375 26.265625 9.515625 29.90625 \nQ 5.8125 33.546875 5.8125 39.890625 \nQ 5.8125 47.609375 11.28125 51.796875 \nQ 16.75 56 26.8125 56 \nQ 31.78125 56 36.171875 55.265625 \nQ 40.578125 54.546875 44.28125 53.078125 \nz\n\" id=\"DejaVuSans-115\"/>\n     </defs>\n     <g transform=\"translate(67.103125 102.664062)scale(0.1 -0.1)\">\n      <use xlink:href=\"#DejaVuSans-116\"/>\n      <use x=\"39.208984\" xlink:href=\"#DejaVuSans-114\"/>\n      <use x=\"80.322266\" xlink:href=\"#DejaVuSans-97\"/>\n      <use x=\"141.601562\" xlink:href=\"#DejaVuSans-105\"/>\n      <use x=\"169.384766\" xlink:href=\"#DejaVuSans-110\"/>\n      <use x=\"232.763672\" xlink:href=\"#DejaVuSans-32\"/>\n      <use x=\"264.550781\" xlink:href=\"#DejaVuSans-108\"/>\n      <use x=\"292.333984\" xlink:href=\"#DejaVuSans-111\"/>\n      <use x=\"353.515625\" xlink:href=\"#DejaVuSans-115\"/>\n      <use x=\"405.615234\" xlink:href=\"#DejaVuSans-115\"/>\n     </g>\n    </g>\n    <g id=\"line2d_22\">\n     <path d=\"M 39.103125 113.842187 \nL 59.103125 113.842187 \n\" style=\"fill:none;stroke:#bf00bf;stroke-dasharray:5.55,2.4;stroke-dashoffset:0;stroke-width:1.5;\"/>\n    </g>\n    <g id=\"line2d_23\"/>\n    <g id=\"text_11\">\n     <!-- train acc -->\n     <g transform=\"translate(67.103125 117.342187)scale(0.1 -0.1)\">\n      <use xlink:href=\"#DejaVuSans-116\"/>\n      <use x=\"39.208984\" xlink:href=\"#DejaVuSans-114\"/>\n      <use x=\"80.322266\" xlink:href=\"#DejaVuSans-97\"/>\n      <use x=\"141.601562\" xlink:href=\"#DejaVuSans-105\"/>\n      <use x=\"169.384766\" xlink:href=\"#DejaVuSans-110\"/>\n      <use x=\"232.763672\" xlink:href=\"#DejaVuSans-32\"/>\n      <use x=\"264.550781\" xlink:href=\"#DejaVuSans-97\"/>\n      <use x=\"325.830078\" xlink:href=\"#DejaVuSans-99\"/>\n      <use x=\"380.810547\" xlink:href=\"#DejaVuSans-99\"/>\n     </g>\n    </g>\n    <g id=\"line2d_24\">\n     <path d=\"M 39.103125 128.520312 \nL 59.103125 128.520312 \n\" style=\"fill:none;stroke:#008000;stroke-dasharray:9.6,2.4,1.5,2.4;stroke-dashoffset:0;stroke-width:1.5;\"/>\n    </g>\n    <g id=\"line2d_25\"/>\n    <g id=\"text_12\">\n     <!-- test acc -->\n     <g transform=\"translate(67.103125 132.020312)scale(0.1 -0.1)\">\n      <use xlink:href=\"#DejaVuSans-116\"/>\n      <use x=\"39.208984\" xlink:href=\"#DejaVuSans-101\"/>\n      <use x=\"100.732422\" xlink:href=\"#DejaVuSans-115\"/>\n      <use x=\"152.832031\" xlink:href=\"#DejaVuSans-116\"/>\n      <use x=\"192.041016\" xlink:href=\"#DejaVuSans-32\"/>\n      <use x=\"223.828125\" xlink:href=\"#DejaVuSans-97\"/>\n      <use x=\"285.107422\" xlink:href=\"#DejaVuSans-99\"/>\n      <use x=\"340.087891\" xlink:href=\"#DejaVuSans-99\"/>\n     </g>\n    </g>\n   </g>\n  </g>\n </g>\n <defs>\n  <clipPath id=\"pc5d548190d\">\n   <rect height=\"135.9\" width=\"195.3\" x=\"30.103125\" y=\"7.2\"/>\n  </clipPath>\n </defs>\n</svg>\n"
          },
          "metadata": {
            "needs_background": "light"
          }
        }
      ]
    },
    {
      "cell_type": "markdown",
      "source": [
        "* The minimal difference between the training and test accuracy shows that the model is not overfitting on the training data and is generalising well on the test data."
      ],
      "metadata": {
        "id": "cFK0i5KrGymj"
      }
    },
    {
      "cell_type": "code",
      "source": [
        "evaluate_accuracy(net, train_iter)"
      ],
      "metadata": {
        "colab": {
          "base_uri": "https://localhost:8080/"
        },
        "id": "dGTL469caHb0",
        "outputId": "70a246ed-3bf0-47fb-b38c-3e9ca78dcb5b"
      },
      "execution_count": 145,
      "outputs": [
        {
          "output_type": "stream",
          "name": "stderr",
          "text": [
            "/usr/local/lib/python3.7/dist-packages/torch/utils/data/dataloader.py:481: UserWarning: This DataLoader will create 4 worker processes in total. Our suggested max number of worker in current system is 2, which is smaller than what this DataLoader is going to create. Please be aware that excessive worker creation might get DataLoader running slow or even freeze, lower the worker number to avoid potential slowness/freeze if necessary.\n",
            "  cpuset_checked))\n"
          ]
        },
        {
          "output_type": "execute_result",
          "data": {
            "text/plain": [
              "0.92445"
            ]
          },
          "metadata": {},
          "execution_count": 145
        }
      ]
    },
    {
      "cell_type": "code",
      "source": [
        "evaluate_accuracy(net, test_iter)"
      ],
      "metadata": {
        "colab": {
          "base_uri": "https://localhost:8080/"
        },
        "id": "8DLVDtkPAPI5",
        "outputId": "44d14e2a-c861-4510-eb44-5668acd66544"
      },
      "execution_count": 146,
      "outputs": [
        {
          "output_type": "stream",
          "name": "stderr",
          "text": [
            "/usr/local/lib/python3.7/dist-packages/torch/utils/data/dataloader.py:481: UserWarning: This DataLoader will create 4 worker processes in total. Our suggested max number of worker in current system is 2, which is smaller than what this DataLoader is going to create. Please be aware that excessive worker creation might get DataLoader running slow or even freeze, lower the worker number to avoid potential slowness/freeze if necessary.\n",
            "  cpuset_checked))\n"
          ]
        },
        {
          "output_type": "execute_result",
          "data": {
            "text/plain": [
              "0.8846"
            ]
          },
          "metadata": {},
          "execution_count": 146
        }
      ]
    }
  ]
}